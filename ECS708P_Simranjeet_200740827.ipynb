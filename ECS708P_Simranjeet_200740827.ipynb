{
  "nbformat": 4,
  "nbformat_minor": 0,
  "metadata": {
    "colab": {
      "provenance": [],
      "toc_visible": true,
      "include_colab_link": true
    },
    "kernelspec": {
      "display_name": "Python 3 Truffle",
      "language": "python",
      "name": "python3"
    },
    "language_info": {
      "codemirror_mode": {
        "name": "ipython",
        "version": 3
      },
      "file_extension": ".py",
      "mimetype": "text/x-python",
      "name": "python",
      "nbconvert_exporter": "python",
      "pygments_lexer": "ipython3",
      "version": "3.7.2"
    }
  },
  "cells": [
    {
      "cell_type": "markdown",
      "metadata": {
        "id": "view-in-github",
        "colab_type": "text"
      },
      "source": [
        "<a href=\"https://colab.research.google.com/github/simranbajwa13/About-me/blob/main/ECS708P_Simranjeet_200740827.ipynb\" target=\"_parent\"><img src=\"https://colab.research.google.com/assets/colab-badge.svg\" alt=\"Open In Colab\"/></a>"
      ]
    },
    {
      "cell_type": "markdown",
      "metadata": {
        "id": "91MsGMTna_P9"
      },
      "source": [
        "# ECS708P mini-project submission\n",
        "\n",
        "The mini-project consists of two components:\n",
        "\n",
        "\n",
        "1.   **Basic solution** [6 marks]: Using the MLEnd dataset, build a model that predicts the intonation of a short audio segment.\n",
        "2.   **Advanced solution** [10 marks]: There are two options. (i) Formulate a machine learning problem that can be attempted using the MLEnd dataset and build a solution model (e.g. identify a numeral in a short sequence). (ii) Create a product that uses the functionality provided by a model trained on the MLEnd dataset (e.g. identify a number based on the identification of individual numerals).  \n",
        "\n",
        "The submission will consist of a single Jupyter notebook for both basic and advanced solution. The uploaded notebook should contain: \n",
        "\n",
        "*   **Text cells**, describing concisely each step and results.\n",
        "*   **Code cells**, implementing each step.\n",
        "*   **Output cells**, i.e. the output from each code cell.\n",
        "\n",
        "and should have **two separate sections** for the basic and the advanced solutions.\n",
        "\n",
        "What should you include in your notebook?\n",
        "\n",
        "*   Title, student name, student ID.\n",
        "*   Brief summary.\n",
        "*   Dataset preparation.\n",
        "*   Dataset visualisation.\n",
        "*   Preprocessing.\n",
        "*   Model(s) description.\n",
        "*   Training and validation tasks.\n",
        "*   Performance evaluation (accuracy, confusion matrix, ROC curve, etc).\n",
        "*   Conclusions.\n",
        "\n",
        "\n",
        "How will we evaluate your submission?\n",
        "\n",
        "*   Conciseness in your writing (10%).\n",
        "*   Correctness in your methodology (30%).\n",
        "*   Correctness in your analysis and conclusions (30%).\n",
        "*   Completeness (10%).\n",
        "*   Originality (10%).\n",
        "*   Efforts to try something new (10%).\n",
        "\n",
        "Suggestion: Why don't you use **GitHub** to manage your project? GitHub can be used as a presentation card that showcases what you have done and gives evidence of your data science skills, knowledge and experience. \n"
      ]
    },
    {
      "cell_type": "markdown",
      "metadata": {
        "id": "ZaGn4ICrfqXZ"
      },
      "source": [
        "# Mini Project \n"
      ]
    },
    {
      "cell_type": "markdown",
      "metadata": {
        "id": "POUQ4YQh1tgF"
      },
      "source": [
        "**Name** : Simranjeet kaur\n",
        "\n",
        "**Student ID**: 200740827"
      ]
    },
    {
      "cell_type": "markdown",
      "metadata": {
        "id": "sMBPVmwZ2JoG"
      },
      "source": [
        "#1 Basic Solution"
      ]
    },
    {
      "cell_type": "markdown",
      "metadata": {
        "id": "FOH8n0aux9Qd"
      },
      "source": [
        "# Brief summary"
      ]
    },
    {
      "cell_type": "markdown",
      "metadata": {
        "id": "5qEMvvW5yC9U"
      },
      "source": [
        "The Problem here is to identify the intonation of a short audio segment. As a part of the solution we will train different models over the dataset and use cross validation approach to evaluate the best model for the dataset."
      ]
    },
    {
      "cell_type": "markdown",
      "metadata": {
        "id": "KLb-iqiJYAmi"
      },
      "source": [
        "As the first step of this basic solution, make a connection to google drive and import all the required libraries."
      ]
    },
    {
      "cell_type": "code",
      "metadata": {
        "id": "8G7B8Q1ogUBt",
        "colab": {
          "base_uri": "https://localhost:8080/"
        },
        "outputId": "9a458d65-9479-4d81-bfb1-59a4656491f1"
      },
      "source": [
        "from google.colab import drive\n",
        "\n",
        "import numpy as np\n",
        "import pandas as pd\n",
        "import matplotlib.pyplot as plt\n",
        "\n",
        "import os, sys, re, pickle, glob\n",
        "import urllib.request\n",
        "import zipfile\n",
        "\n",
        "#from IPython.display import Audio\n",
        "import IPython.display as ipd\n",
        "from tqdm import tqdm\n",
        "import librosa\n",
        "drive.mount('/content/drive')"
      ],
      "execution_count": null,
      "outputs": [
        {
          "output_type": "stream",
          "text": [
            "Mounted at /content/drive\n"
          ],
          "name": "stdout"
        }
      ]
    },
    {
      "cell_type": "markdown",
      "metadata": {
        "id": "7aXmzZCaJKhE"
      },
      "source": [
        "Run the following cell to check for the trainingMLEnd.csv file"
      ]
    },
    {
      "cell_type": "code",
      "metadata": {
        "colab": {
          "base_uri": "https://localhost:8080/"
        },
        "id": "A79gc-XiJRWJ",
        "outputId": "bfe445f7-a11e-4f7f-b109-ee3994e5ce21"
      },
      "source": [
        "path = '/content/drive/MyDrive/Data/MLEnd'\n",
        "os.listdir(path)"
      ],
      "execution_count": null,
      "outputs": [
        {
          "output_type": "execute_result",
          "data": {
            "text/plain": [
              "['trainingMLEnd.csv', 'training', 'training.zip']"
            ]
          },
          "metadata": {
            "tags": []
          },
          "execution_count": 2
        }
      ]
    },
    {
      "cell_type": "markdown",
      "metadata": {
        "id": "1OT2VQCdJelC"
      },
      "source": [
        "#Data Preperation"
      ]
    },
    {
      "cell_type": "markdown",
      "metadata": {
        "id": "Mjo2IbCTZBY6"
      },
      "source": [
        "As a part of data preperation this section includes downloading the data for our solution. The following function is defined, which will be used for downloading the file to a chosen loaction."
      ]
    },
    {
      "cell_type": "code",
      "metadata": {
        "id": "T59tIRkZJlrx"
      },
      "source": [
        "def download_url(url, save_path):\n",
        "    with urllib.request.urlopen(url) as dl_file:\n",
        "        with open(save_path, 'wb') as out_file:\n",
        "            out_file.write(dl_file.read())"
      ],
      "execution_count": null,
      "outputs": []
    },
    {
      "cell_type": "markdown",
      "metadata": {
        "id": "CpB70SMxZobJ"
      },
      "source": [
        "The next step is to download the zip file into the folder, that was created previously in the drive and then finnaly unzipping the file that is downloaded."
      ]
    },
    {
      "cell_type": "code",
      "metadata": {
        "id": "8DXf1omhJ0yM"
      },
      "source": [
        "url  = \"https://collect.qmul.ac.uk/down?t=4LO0R0TSLPGGHJPC/45O137K56GGVDFUT9AH4ST\"\n",
        "save_path = '/content/drive/MyDrive/Data/MLEnd/training.zip'\n",
        "download_url(url, save_path)"
      ],
      "execution_count": null,
      "outputs": []
    },
    {
      "cell_type": "code",
      "metadata": {
        "id": "tddp94hTKBhB"
      },
      "source": [
        "directory_to_extract_to = '/content/drive/MyDrive/Data/MLEnd/training/'\n",
        "with zipfile.ZipFile(save_path, 'r') as zip_ref:\n",
        "    zip_ref.extractall(directory_to_extract_to)"
      ],
      "execution_count": null,
      "outputs": []
    },
    {
      "cell_type": "markdown",
      "metadata": {
        "id": "b-wU6GX3aN7m"
      },
      "source": [
        "The next cell shows the number of audio files in the dataset."
      ]
    },
    {
      "cell_type": "code",
      "metadata": {
        "id": "dADqhnLQcY5w",
        "colab": {
          "base_uri": "https://localhost:8080/"
        },
        "outputId": "3a74a7ec-14fa-4335-e5b9-f5ea6b381a12"
      },
      "source": [
        "files = glob.glob('/content/drive/MyDrive/Data/MLEnd/training/*/*.wav')\n",
        "len(files)"
      ],
      "execution_count": null,
      "outputs": [
        {
          "output_type": "execute_result",
          "data": {
            "text/plain": [
              "20000"
            ]
          },
          "metadata": {
            "tags": []
          },
          "execution_count": 6
        }
      ]
    },
    {
      "cell_type": "markdown",
      "metadata": {
        "id": "939csj6japeX"
      },
      "source": [
        "In the next step the contents of the CSV file are loaded into a Panda dataframe."
      ]
    },
    {
      "cell_type": "code",
      "metadata": {
        "id": "A_yQtq0MhR_n",
        "colab": {
          "base_uri": "https://localhost:8080/",
          "height": 402
        },
        "outputId": "f7e0ac5f-2d4f-4f62-c06a-b946583306cd"
      },
      "source": [
        "labels = pd.read_csv('/content/drive/MyDrive/Data/MLEnd/trainingMLEnd.csv')\n",
        "labels"
      ],
      "execution_count": null,
      "outputs": [
        {
          "output_type": "execute_result",
          "data": {
            "text/html": [
              "<div>\n",
              "<style scoped>\n",
              "    .dataframe tbody tr th:only-of-type {\n",
              "        vertical-align: middle;\n",
              "    }\n",
              "\n",
              "    .dataframe tbody tr th {\n",
              "        vertical-align: top;\n",
              "    }\n",
              "\n",
              "    .dataframe thead th {\n",
              "        text-align: right;\n",
              "    }\n",
              "</style>\n",
              "<table border=\"1\" class=\"dataframe\">\n",
              "  <thead>\n",
              "    <tr style=\"text-align: right;\">\n",
              "      <th></th>\n",
              "      <th>File ID</th>\n",
              "      <th>digit_label</th>\n",
              "      <th>participant</th>\n",
              "      <th>intonation</th>\n",
              "    </tr>\n",
              "  </thead>\n",
              "  <tbody>\n",
              "    <tr>\n",
              "      <th>0</th>\n",
              "      <td>0000000.wav</td>\n",
              "      <td>4</td>\n",
              "      <td>S73</td>\n",
              "      <td>question</td>\n",
              "    </tr>\n",
              "    <tr>\n",
              "      <th>1</th>\n",
              "      <td>0000001.wav</td>\n",
              "      <td>2</td>\n",
              "      <td>S88</td>\n",
              "      <td>excited</td>\n",
              "    </tr>\n",
              "    <tr>\n",
              "      <th>2</th>\n",
              "      <td>0000002.wav</td>\n",
              "      <td>70</td>\n",
              "      <td>S5</td>\n",
              "      <td>neutral</td>\n",
              "    </tr>\n",
              "    <tr>\n",
              "      <th>3</th>\n",
              "      <td>0000003.wav</td>\n",
              "      <td>2</td>\n",
              "      <td>S85</td>\n",
              "      <td>bored</td>\n",
              "    </tr>\n",
              "    <tr>\n",
              "      <th>4</th>\n",
              "      <td>0000004.wav</td>\n",
              "      <td>4</td>\n",
              "      <td>S30</td>\n",
              "      <td>excited</td>\n",
              "    </tr>\n",
              "    <tr>\n",
              "      <th>...</th>\n",
              "      <td>...</td>\n",
              "      <td>...</td>\n",
              "      <td>...</td>\n",
              "      <td>...</td>\n",
              "    </tr>\n",
              "    <tr>\n",
              "      <th>19995</th>\n",
              "      <td>0019995.wav</td>\n",
              "      <td>90</td>\n",
              "      <td>S163</td>\n",
              "      <td>excited</td>\n",
              "    </tr>\n",
              "    <tr>\n",
              "      <th>19996</th>\n",
              "      <td>0019996.wav</td>\n",
              "      <td>10</td>\n",
              "      <td>S99</td>\n",
              "      <td>question</td>\n",
              "    </tr>\n",
              "    <tr>\n",
              "      <th>19997</th>\n",
              "      <td>0019997.wav</td>\n",
              "      <td>90</td>\n",
              "      <td>S46</td>\n",
              "      <td>question</td>\n",
              "    </tr>\n",
              "    <tr>\n",
              "      <th>19998</th>\n",
              "      <td>0019998.wav</td>\n",
              "      <td>19</td>\n",
              "      <td>S13</td>\n",
              "      <td>neutral</td>\n",
              "    </tr>\n",
              "    <tr>\n",
              "      <th>19999</th>\n",
              "      <td>0019999.wav</td>\n",
              "      <td>20</td>\n",
              "      <td>S101</td>\n",
              "      <td>neutral</td>\n",
              "    </tr>\n",
              "  </tbody>\n",
              "</table>\n",
              "<p>20000 rows × 4 columns</p>\n",
              "</div>"
            ],
            "text/plain": [
              "           File ID  digit_label participant intonation\n",
              "0      0000000.wav            4         S73   question\n",
              "1      0000001.wav            2         S88    excited\n",
              "2      0000002.wav           70          S5    neutral\n",
              "3      0000003.wav            2         S85      bored\n",
              "4      0000004.wav            4         S30    excited\n",
              "...            ...          ...         ...        ...\n",
              "19995  0019995.wav           90        S163    excited\n",
              "19996  0019996.wav           10         S99   question\n",
              "19997  0019997.wav           90         S46   question\n",
              "19998  0019998.wav           19         S13    neutral\n",
              "19999  0019999.wav           20        S101    neutral\n",
              "\n",
              "[20000 rows x 4 columns]"
            ]
          },
          "metadata": {
            "tags": []
          },
          "execution_count": 7
        }
      ]
    },
    {
      "cell_type": "markdown",
      "metadata": {
        "id": "WuhGgASPa9Vl"
      },
      "source": [
        "After loading the data, the next step is to extract the features of the audio file dataset and use them as predictors. For that purpose in the next cell a function is defined to extract the pitch of the audio signal."
      ]
    },
    {
      "cell_type": "code",
      "metadata": {
        "id": "wf2F_7PchbOO"
      },
      "source": [
        "def getPitch(x,fs,winLen=0.02):\n",
        "  #winLen = 0.02 \n",
        "  p = winLen*fs\n",
        "  frame_length = int(2**int(p-1).bit_length())\n",
        "  hop_length = frame_length//2\n",
        "  f0, voiced_flag, voiced_probs = librosa.pyin(y=x, fmin=80, fmax=450, sr=fs,\n",
        "                                                 frame_length=frame_length,hop_length=hop_length)\n",
        "  return f0,voiced_flag"
      ],
      "execution_count": null,
      "outputs": []
    },
    {
      "cell_type": "markdown",
      "metadata": {
        "id": "TyOAoS_jb7AG"
      },
      "source": [
        "The next step involves extracting four featues of the audio files which will be used as predictors. The problem is now to indentify the intonation of given audio segment, for which a function is defined  that takes a number of files and creates a NumPy array containing the 4 audio features used as predictors (X) and their labels (y).  "
      ]
    },
    {
      "cell_type": "code",
      "metadata": {
        "id": "JLy2XJcthoy-"
      },
      "source": [
        "def getXy(files,labels_file,scale_audio=False, onlySingleDigit=False):\n",
        "  X,y =[],[]\n",
        "  for file in tqdm(files):\n",
        "    fileID = file.split('/')[-1]\n",
        "    yi = list(labels_file[labels_file['File ID']==fileID]['intonation'])[0]\n",
        "    \n",
        "    fs = None # if None, fs would be 22050\n",
        "    x, fs = librosa.load(file,sr=fs)\n",
        "    if scale_audio: x = x/np.max(np.abs(x))\n",
        "    f0, voiced_flag = getPitch(x,fs,winLen=0.02)\n",
        "      \n",
        "    power = np.sum(x**2)/len(x)\n",
        "    pitch_mean = np.nanmean(f0) if np.mean(np.isnan(f0))<1 else 0\n",
        "    pitch_std  = np.nanstd(f0) if np.mean(np.isnan(f0))<1 else 0\n",
        "    voiced_fr = np.mean(voiced_flag)\n",
        "\n",
        "    xi = [power,pitch_mean,pitch_std,voiced_fr]\n",
        "    X.append(xi)\n",
        "    y.append(yi)\n",
        "  return np.array(X),np.array(y)"
      ],
      "execution_count": null,
      "outputs": []
    },
    {
      "cell_type": "markdown",
      "metadata": {
        "id": "EeyKHoEkdCp3"
      },
      "source": [
        "For this solution 500 audio files will be used out of 20k"
      ]
    },
    {
      "cell_type": "code",
      "metadata": {
        "id": "QfcFw-WdhznY",
        "colab": {
          "base_uri": "https://localhost:8080/"
        },
        "outputId": "60f9c983-5a6f-4eb7-a552-172bd0757325"
      },
      "source": [
        "X,y = getXy(files[:500],labels_file=labels,scale_audio=True, onlySingleDigit=True)\n"
      ],
      "execution_count": null,
      "outputs": [
        {
          "output_type": "stream",
          "text": [
            "100%|██████████| 500/500 [05:37<00:00,  1.48it/s]\n"
          ],
          "name": "stderr"
        }
      ]
    },
    {
      "cell_type": "code",
      "metadata": {
        "id": "R2Ew-W0AkADf",
        "colab": {
          "base_uri": "https://localhost:8080/"
        },
        "outputId": "b8c4307f-d431-4639-aa1f-df08e26f7e05"
      },
      "source": [
        "print('The shape of X is', X.shape) \n",
        "print('The shape of y is', y.shape)\n",
        "print('The labels vector is', y)"
      ],
      "execution_count": null,
      "outputs": [
        {
          "output_type": "stream",
          "text": [
            "The shape of X is (500, 4)\n",
            "The shape of y is (500,)\n",
            "The labels vector is ['question' 'neutral' 'bored' 'excited' 'excited' 'bored' 'excited'\n",
            " 'question' 'excited' 'question' 'question' 'neutral' 'neutral' 'bored'\n",
            " 'excited' 'question' 'bored' 'excited' 'excited' 'bored' 'bored'\n",
            " 'question' 'bored' 'excited' 'question' 'neutral' 'bored' 'question'\n",
            " 'bored' 'bored' 'question' 'question' 'bored' 'excited' 'neutral'\n",
            " 'question' 'question' 'bored' 'excited' 'question' 'excited' 'excited'\n",
            " 'neutral' 'neutral' 'question' 'excited' 'bored' 'neutral' 'neutral'\n",
            " 'bored' 'neutral' 'neutral' 'neutral' 'bored' 'excited' 'bored' 'bored'\n",
            " 'question' 'neutral' 'question' 'neutral' 'bored' 'neutral' 'bored'\n",
            " 'bored' 'bored' 'bored' 'excited' 'excited' 'question' 'excited'\n",
            " 'question' 'question' 'excited' 'neutral' 'excited' 'excited' 'question'\n",
            " 'neutral' 'excited' 'excited' 'question' 'question' 'question' 'excited'\n",
            " 'excited' 'neutral' 'question' 'neutral' 'neutral' 'bored' 'neutral'\n",
            " 'neutral' 'question' 'neutral' 'neutral' 'question' 'excited' 'question'\n",
            " 'neutral' 'excited' 'excited' 'question' 'question' 'neutral' 'question'\n",
            " 'excited' 'excited' 'question' 'question' 'bored' 'question' 'neutral'\n",
            " 'excited' 'bored' 'question' 'excited' 'question' 'excited' 'neutral'\n",
            " 'question' 'bored' 'question' 'neutral' 'bored' 'bored' 'neutral' 'bored'\n",
            " 'neutral' 'question' 'neutral' 'neutral' 'excited' 'question' 'neutral'\n",
            " 'question' 'bored' 'bored' 'question' 'bored' 'neutral' 'question'\n",
            " 'neutral' 'neutral' 'excited' 'question' 'question' 'neutral' 'bored'\n",
            " 'excited' 'neutral' 'excited' 'bored' 'neutral' 'bored' 'neutral'\n",
            " 'excited' 'bored' 'bored' 'question' 'bored' 'question' 'question'\n",
            " 'neutral' 'question' 'excited' 'bored' 'excited' 'question' 'question'\n",
            " 'bored' 'excited' 'question' 'neutral' 'excited' 'bored' 'excited'\n",
            " 'bored' 'bored' 'question' 'question' 'excited' 'neutral' 'bored'\n",
            " 'neutral' 'bored' 'question' 'excited' 'question' 'excited' 'bored'\n",
            " 'question' 'question' 'neutral' 'neutral' 'neutral' 'excited' 'question'\n",
            " 'question' 'excited' 'question' 'bored' 'question' 'neutral' 'excited'\n",
            " 'question' 'excited' 'neutral' 'bored' 'excited' 'neutral' 'neutral'\n",
            " 'bored' 'bored' 'bored' 'neutral' 'bored' 'neutral' 'bored' 'excited'\n",
            " 'excited' 'neutral' 'question' 'excited' 'excited' 'question' 'question'\n",
            " 'question' 'question' 'excited' 'bored' 'question' 'excited' 'question'\n",
            " 'neutral' 'question' 'neutral' 'question' 'neutral' 'neutral' 'excited'\n",
            " 'bored' 'question' 'question' 'neutral' 'question' 'excited' 'bored'\n",
            " 'neutral' 'bored' 'excited' 'neutral' 'excited' 'neutral' 'bored'\n",
            " 'excited' 'neutral' 'bored' 'neutral' 'bored' 'neutral' 'bored' 'excited'\n",
            " 'question' 'excited' 'bored' 'neutral' 'excited' 'bored' 'bored'\n",
            " 'excited' 'question' 'excited' 'question' 'excited' 'excited' 'bored'\n",
            " 'bored' 'bored' 'neutral' 'excited' 'excited' 'bored' 'neutral' 'excited'\n",
            " 'excited' 'excited' 'excited' 'excited' 'excited' 'excited' 'bored'\n",
            " 'neutral' 'question' 'bored' 'excited' 'bored' 'question' 'neutral'\n",
            " 'excited' 'excited' 'bored' 'question' 'bored' 'question' 'bored'\n",
            " 'neutral' 'excited' 'excited' 'excited' 'bored' 'excited' 'question'\n",
            " 'question' 'excited' 'excited' 'question' 'question' 'excited' 'excited'\n",
            " 'excited' 'neutral' 'bored' 'bored' 'neutral' 'question' 'bored'\n",
            " 'neutral' 'neutral' 'excited' 'question' 'excited' 'question' 'excited'\n",
            " 'neutral' 'bored' 'neutral' 'neutral' 'question' 'neutral' 'excited'\n",
            " 'bored' 'neutral' 'neutral' 'bored' 'question' 'question' 'question'\n",
            " 'bored' 'question' 'question' 'neutral' 'excited' 'question' 'bored'\n",
            " 'bored' 'question' 'bored' 'question' 'bored' 'bored' 'excited'\n",
            " 'question' 'neutral' 'neutral' 'neutral' 'excited' 'excited' 'bored'\n",
            " 'excited' 'excited' 'neutral' 'bored' 'excited' 'neutral' 'bored'\n",
            " 'question' 'question' 'question' 'neutral' 'neutral' 'bored' 'excited'\n",
            " 'excited' 'question' 'question' 'bored' 'question' 'excited' 'neutral'\n",
            " 'bored' 'bored' 'question' 'neutral' 'question' 'neutral' 'bored'\n",
            " 'question' 'neutral' 'question' 'excited' 'excited' 'neutral' 'neutral'\n",
            " 'neutral' 'question' 'bored' 'question' 'excited' 'bored' 'question'\n",
            " 'bored' 'question' 'excited' 'excited' 'excited' 'excited' 'question'\n",
            " 'question' 'bored' 'excited' 'excited' 'excited' 'question' 'question'\n",
            " 'excited' 'excited' 'excited' 'excited' 'bored' 'neutral' 'neutral'\n",
            " 'excited' 'excited' 'excited' 'neutral' 'question' 'excited' 'bored'\n",
            " 'bored' 'excited' 'neutral' 'neutral' 'excited' 'question' 'excited'\n",
            " 'neutral' 'excited' 'excited' 'excited' 'bored' 'bored' 'bored' 'neutral'\n",
            " 'question' 'neutral' 'neutral' 'bored' 'neutral' 'neutral' 'excited'\n",
            " 'bored' 'question' 'neutral' 'neutral' 'bored' 'bored' 'excited'\n",
            " 'neutral' 'bored' 'question' 'neutral' 'bored' 'neutral' 'neutral'\n",
            " 'neutral' 'bored' 'excited' 'neutral' 'excited' 'excited' 'bored'\n",
            " 'excited' 'question' 'neutral' 'question' 'excited' 'excited' 'excited'\n",
            " 'neutral' 'neutral' 'neutral' 'question' 'excited' 'bored' 'neutral'\n",
            " 'bored' 'question' 'bored' 'excited']\n"
          ],
          "name": "stdout"
        }
      ]
    },
    {
      "cell_type": "markdown",
      "metadata": {
        "id": "t79DiwbodU71"
      },
      "source": [
        "# Preprocessing"
      ]
    },
    {
      "cell_type": "markdown",
      "metadata": {
        "id": "VH1wxjRmda-y"
      },
      "source": [
        "As a part of preprocessing the dataset all the NaN (Not a number) elements are removed. "
      ]
    },
    {
      "cell_type": "code",
      "metadata": {
        "id": "5RJQBCu_kF6M",
        "colab": {
          "base_uri": "https://localhost:8080/"
        },
        "outputId": "b2fd1092-0430-475f-f72a-8dfd8e35796b"
      },
      "source": [
        "# If nan sample, remove them\n",
        "if np.sum(np.isnan(X)):\n",
        "  idx = np.isnan(X).sum(1)>0\n",
        "  X = X[~idx]\n",
        "  y = y[~idx]\n",
        "print(np.sum(np.isnan(X)))"
      ],
      "execution_count": null,
      "outputs": [
        {
          "output_type": "stream",
          "text": [
            "0\n"
          ],
          "name": "stdout"
        }
      ]
    },
    {
      "cell_type": "markdown",
      "metadata": {
        "id": "Zb7xgtrDd5go"
      },
      "source": [
        "The final preprocessing step is to divide the data into training and validation sets. The train_test_split method, will be used to randomly split the data into training and validation sets. Execute the following cell to do so:"
      ]
    },
    {
      "cell_type": "code",
      "metadata": {
        "id": "De79v06MkPfB",
        "colab": {
          "base_uri": "https://localhost:8080/"
        },
        "outputId": "4c9781c7-5287-4b2b-d7b3-f1993118798d"
      },
      "source": [
        "from sklearn import svm\n",
        "from sklearn.model_selection import train_test_split\n",
        "\n",
        "X_train, X_val, y_train, y_val = train_test_split(X,y,test_size=0.3)\n",
        "X_train.shape, X_val.shape, y_train.shape, y_val.shape"
      ],
      "execution_count": null,
      "outputs": [
        {
          "output_type": "execute_result",
          "data": {
            "text/plain": [
              "((350, 4), (150, 4), (350,), (150,))"
            ]
          },
          "metadata": {
            "tags": []
          },
          "execution_count": 13
        }
      ]
    },
    {
      "cell_type": "markdown",
      "metadata": {
        "id": "YrsVnsIbfTUd"
      },
      "source": [
        "# Models Description"
      ]
    },
    {
      "cell_type": "markdown",
      "metadata": {
        "id": "K5sF71u5fbCw"
      },
      "source": [
        "Once the data has been divided into the training and validation sets, the final step is to train different models on the data and make predictions. The next cell shows the K-Fold Cross validation approach taken up with 8-folds (i.e 8 different groups the dataset is split into) to evaluate each algorithm and find the best fit model for the dataset. The output displays the mean accuracy and standard deviation accuracy of each algorithm and the box plot graph shows the comparison between different algorithms in terms of their performance (accuracy). "
      ]
    },
    {
      "cell_type": "code",
      "metadata": {
        "id": "bSWnrBklkuoH",
        "colab": {
          "base_uri": "https://localhost:8080/",
          "height": 362
        },
        "outputId": "789e7e7d-7f47-4cfa-fde8-dc984799481a"
      },
      "source": [
        "from sklearn import model_selection\n",
        "from sklearn.ensemble import RandomForestClassifier\n",
        "from sklearn.neighbors import KNeighborsClassifier\n",
        "from sklearn.naive_bayes import GaussianNB\n",
        "from sklearn.svm import SVC\n",
        "\n",
        "# prepare configuration for cross validation test harnes\n",
        "# prepare models\n",
        "models = []\n",
        "\n",
        "models.append(('KNN', KNeighborsClassifier()))\n",
        "models.append(('RFC', RandomForestClassifier(n_estimators=5)))\n",
        "models.append(('NB', GaussianNB()))\n",
        "models.append(('SVM', SVC(kernel='linear', C=0.01)))\n",
        "\n",
        "# evaluate each model in turn\n",
        "results = []\n",
        "names = []\n",
        "scoring = 'accuracy'\n",
        "for name, model in models:\n",
        "\tkfold = model_selection.KFold(n_splits=8)\n",
        "\tcv_results = model_selection.cross_val_score(model, X, y, cv=kfold, scoring=scoring)\n",
        "\tresults.append(cv_results)\n",
        "\tnames.append(name)\n",
        "\tmsg = \"%s: %f (%f)\" % (name, cv_results.mean(), cv_results.std())\n",
        "\tprint(msg)\n",
        " \n",
        "\n",
        " # boxplot algorithm comparison\n",
        "fig = plt.figure()\n",
        "fig.suptitle('Algorithm Comparison')\n",
        "ax = fig.add_subplot(111)\n",
        "plt.boxplot(results)\n",
        "ax.set_xticklabels(names)\n",
        "plt.show()\n"
      ],
      "execution_count": null,
      "outputs": [
        {
          "output_type": "stream",
          "text": [
            "KNN: 0.465758 (0.086577)\n",
            "RFC: 0.478015 (0.059560)\n",
            "NB: 0.497984 (0.056674)\n",
            "SVM: 0.445789 (0.067850)\n"
          ],
          "name": "stdout"
        },
        {
          "output_type": "display_data",
          "data": {
            "image/png": "[encoded data removed]",
            "text/plain": [
              "<Figure size 432x288 with 1 Axes>"
            ]
          },
          "metadata": {
            "tags": [],
            "needs_background": "light"
          }
        }
      ]
    },
    {
      "cell_type": "markdown",
      "metadata": {
        "id": "C0Vb_TdFj8Y5"
      },
      "source": [
        "From the results, it would suggest that both Random forest classifier   and Gaussian Naive Bayes (GaussianNB) analysis are worthy of further study on this problem. Since both have a higher accuracy compared to the other two models, these two models will be further evaluated using a confusion matrix analysis to find the best among them."
      ]
    },
    {
      "cell_type": "markdown",
      "metadata": {
        "id": "ZvhtF4pfjPWZ"
      },
      "source": [
        "# Confusion Matrix"
      ]
    },
    {
      "cell_type": "markdown",
      "metadata": {
        "id": "nlt06-GhlBNJ"
      },
      "source": [
        "Below is the confusion matrix for the Gaussian Naive Bayes algorithm"
      ]
    },
    {
      "cell_type": "code",
      "metadata": {
        "id": "MnIYS8eFdqho",
        "colab": {
          "base_uri": "https://localhost:8080/"
        },
        "outputId": "ef5f7e4c-df45-4dd0-b586-743c308343bb"
      },
      "source": [
        "from sklearn.naive_bayes import MultinomialNB # or any other NB model\n",
        "from sklearn.metrics import accuracy_score\n",
        "from sklearn.metrics import confusion_matrix\n",
        "\n",
        "nb_classifier = MultinomialNB()\n",
        "\n",
        "nb_classifier.fit(X_train, y_train)\n",
        "\n",
        "y_pred = nb_classifier.predict(X_val)\n",
        "\n",
        "acc_score = accuracy_score(y_val, y_pred)\n",
        "conf_mat = confusion_matrix(\n",
        "        y_val, y_pred, labels = ['bored','excited','neutral','question'])\n",
        "\n",
        "print(acc_score)\n",
        "print(conf_mat)"
      ],
      "execution_count": null,
      "outputs": [
        {
          "output_type": "stream",
          "text": [
            "0.47\n",
            "[[21  0  3  1]\n",
            " [ 4  7  2 11]\n",
            " [18  4  6  1]\n",
            " [ 0  6  3 13]]\n"
          ],
          "name": "stdout"
        }
      ]
    },
    {
      "cell_type": "markdown",
      "metadata": {
        "id": "71amX0_QlbmU"
      },
      "source": [
        "Below is the confusion matrix for the Random Forest classifier algorithm"
      ]
    },
    {
      "cell_type": "code",
      "metadata": {
        "colab": {
          "base_uri": "https://localhost:8080/"
        },
        "id": "aHOWoLmsPhCS",
        "outputId": "f614b644-3b4b-467e-dd28-31e52a11ed9b"
      },
      "source": [
        "from sklearn.model_selection import cross_val_score\n",
        "from sklearn.metrics import classification_report, confusion_matrix\n",
        "from sklearn.model_selection import train_test_split\n",
        "from sklearn.metrics import accuracy_score\n",
        "\n",
        "# implementing train-test-split\n",
        "X_train, X_val, y_train, y_val = train_test_split(X, y, test_size=0.3)\n",
        "rfc = RandomForestClassifier(n_estimators=5)\n",
        "rfc.fit(X_train,y_train)\n",
        "rfc_predict = rfc.predict(X_val)\n",
        "acc_score = accuracy_score(y_val, rfc_predict)\n",
        "print(\"=== Confusion Matrix ===\")\n",
        "print(confusion_matrix(y_val, rfc_predict))\n",
        "print('\\n')\n",
        "print(\"=== Classification Report ===\")\n",
        "print(classification_report(y_val, rfc_predict))\n",
        "print('\\n')\n",
        "print(acc_score)\n"
      ],
      "execution_count": null,
      "outputs": [
        {
          "output_type": "stream",
          "text": [
            "=== Confusion Matrix ===\n",
            "[[13  3 18  1]\n",
            " [ 3 21  7  8]\n",
            " [ 8 13 14  5]\n",
            " [ 0 12  8 16]]\n",
            "\n",
            "\n",
            "=== Classification Report ===\n",
            "              precision    recall  f1-score   support\n",
            "\n",
            "       bored       0.54      0.37      0.44        35\n",
            "     excited       0.43      0.54      0.48        39\n",
            "     neutral       0.30      0.35      0.32        40\n",
            "    question       0.53      0.44      0.48        36\n",
            "\n",
            "    accuracy                           0.43       150\n",
            "   macro avg       0.45      0.43      0.43       150\n",
            "weighted avg       0.45      0.43      0.43       150\n",
            "\n",
            "\n",
            "\n",
            "0.4266666666666667\n"
          ],
          "name": "stdout"
        }
      ]
    },
    {
      "cell_type": "markdown",
      "metadata": {
        "id": "9Y1pQ5s4llUI"
      },
      "source": [
        "From the results of the above cells, Gaussian Naive Bayes model has an accuracy of 0.47 whereas Random Forest classifier model has an accuracy of 0.42"
      ]
    },
    {
      "cell_type": "markdown",
      "metadata": {
        "id": "kjf0E27wmDz6"
      },
      "source": [
        "# Conclution"
      ]
    },
    {
      "cell_type": "markdown",
      "metadata": {
        "id": "Vv_58G5emH8b"
      },
      "source": [
        "From the above problem solution it can be concluded that best fit model for the given dataset is Gaussian Naive Bayes model with an accuracy of 0.47 which was highest among all the other trained models. The accuracy of this model can be increased if the number of audio files taken under consideration are increased. The accuracy of the solution also drops when the number of features taken into account are altered (i.e if they are reduced). "
      ]
    },
    {
      "cell_type": "markdown",
      "metadata": {
        "id": "ObIDFkGSfuYa"
      },
      "source": [
        "# 2 Advanced solution"
      ]
    },
    {
      "cell_type": "markdown",
      "metadata": {
        "id": "Rtg9FrATz7-E"
      },
      "source": [
        "**Name**: Simranjeet kaur\n",
        "\n",
        "**Student ID**: 200740827"
      ]
    },
    {
      "cell_type": "markdown",
      "metadata": {
        "id": "sKYedIC_y343"
      },
      "source": [
        "# Brief summary"
      ]
    },
    {
      "cell_type": "markdown",
      "metadata": {
        "id": "dycou9MQy74o"
      },
      "source": [
        "The Problem here is to identify if a spoken numeral is a composite number or not. Composite numbers are positive integers that can be formed by multiplying two smaller positive integers. Equivalently, it is a positive integer that has at least one divisor other than 1 and itself. "
      ]
    },
    {
      "cell_type": "markdown",
      "metadata": {
        "id": "EfLFFc_PnVMv"
      },
      "source": [
        "As the first step of this Advanced solution, make a connection to google drive and import all the required libraries."
      ]
    },
    {
      "cell_type": "code",
      "metadata": {
        "id": "nXP177ywWxLP",
        "colab": {
          "base_uri": "https://localhost:8080/"
        },
        "outputId": "7404ec4a-2f4a-4b97-8632-a09c5f6075bb"
      },
      "source": [
        "from google.colab import drive\n",
        "\n",
        "import numpy as np\n",
        "import pandas as pd\n",
        "import matplotlib.pyplot as plt\n",
        "\n",
        "import os, sys, re, pickle, glob\n",
        "import urllib.request\n",
        "import zipfile\n",
        "\n",
        "#from IPython.display import Audio\n",
        "import IPython.display as ipd\n",
        "from tqdm import tqdm\n",
        "import librosa\n",
        "drive.mount('/content/drive')"
      ],
      "execution_count": null,
      "outputs": [
        {
          "output_type": "stream",
          "text": [
            "Drive already mounted at /content/drive; to attempt to forcibly remount, call drive.mount(\"/content/drive\", force_remount=True).\n"
          ],
          "name": "stdout"
        }
      ]
    },
    {
      "cell_type": "markdown",
      "metadata": {
        "id": "mEYq6HlAnrG3"
      },
      "source": [
        "Run the following cell to check for the trainingMLEnd.csv file"
      ]
    },
    {
      "cell_type": "code",
      "metadata": {
        "id": "rrZAelUTWy7f",
        "colab": {
          "base_uri": "https://localhost:8080/"
        },
        "outputId": "02ec04e1-4bf5-4d07-b432-01000cfc915c"
      },
      "source": [
        "path = '/content/drive/MyDrive/Data/MLEnd'\n",
        "os.listdir(path)"
      ],
      "execution_count": null,
      "outputs": [
        {
          "output_type": "execute_result",
          "data": {
            "text/plain": [
              "['trainingMLEnd.csv', 'training', 'training.zip']"
            ]
          },
          "metadata": {
            "tags": []
          },
          "execution_count": 21
        }
      ]
    },
    {
      "cell_type": "markdown",
      "metadata": {
        "id": "HvlbfigAnz_3"
      },
      "source": [
        "# Data preperation"
      ]
    },
    {
      "cell_type": "markdown",
      "metadata": {
        "id": "cNqnBBnMoBgZ"
      },
      "source": [
        "As a part of data preperation this section includes downloading the data for our solution. The following function is defined, which will be used for downloading the file to a chosen loaction."
      ]
    },
    {
      "cell_type": "code",
      "metadata": {
        "id": "qUGpiPQTW9mU"
      },
      "source": [
        "def download_url(url, save_path):\n",
        "    with urllib.request.urlopen(url) as dl_file:\n",
        "        with open(save_path, 'wb') as out_file:\n",
        "            out_file.write(dl_file.read())"
      ],
      "execution_count": null,
      "outputs": []
    },
    {
      "cell_type": "markdown",
      "metadata": {
        "id": "4p3VjMjyoFMo"
      },
      "source": [
        "The next step is to download the zip file into the folder, that was created previously in the drive and then finnaly unzipping the file that is downloaded."
      ]
    },
    {
      "cell_type": "code",
      "metadata": {
        "id": "0Zfe5RWUXEw0"
      },
      "source": [
        "url  = \"https://collect.qmul.ac.uk/down?t=4LO0R0TSLPGGHJPC/45O137K56GGVDFUT9AH4ST\"\n",
        "save_path = '/content/drive/MyDrive/Data/MLEnd/training.zip'\n",
        "download_url(url, save_path)"
      ],
      "execution_count": null,
      "outputs": []
    },
    {
      "cell_type": "code",
      "metadata": {
        "id": "L3N3wRBSXMEP"
      },
      "source": [
        "directory_to_extract_to = '/content/drive/MyDrive/Data/MLEnd/training/'\n",
        "with zipfile.ZipFile(save_path, 'r') as zip_ref:\n",
        "    zip_ref.extractall(directory_to_extract_to)"
      ],
      "execution_count": null,
      "outputs": []
    },
    {
      "cell_type": "markdown",
      "metadata": {
        "id": "8NuG4gRmoPQJ"
      },
      "source": [
        "The next cell shows the number of audio files in the dataset."
      ]
    },
    {
      "cell_type": "code",
      "metadata": {
        "id": "-lKk4P0DXSEl",
        "colab": {
          "base_uri": "https://localhost:8080/"
        },
        "outputId": "7025ebd0-a0e2-498f-cfa6-5fec5012e748"
      },
      "source": [
        "files = glob.glob('/content/drive/MyDrive/Data/MLEnd/training/*/*.wav')\n",
        "len(files)"
      ],
      "execution_count": null,
      "outputs": [
        {
          "output_type": "execute_result",
          "data": {
            "text/plain": [
              "20000"
            ]
          },
          "metadata": {
            "tags": []
          },
          "execution_count": 25
        }
      ]
    },
    {
      "cell_type": "markdown",
      "metadata": {
        "id": "bvPws_w4omXK"
      },
      "source": [
        "In the next step the contents of the CSV file are loaded into a Panda dataframe."
      ]
    },
    {
      "cell_type": "code",
      "metadata": {
        "id": "fgW89E4gXcNz",
        "colab": {
          "base_uri": "https://localhost:8080/",
          "height": 402
        },
        "outputId": "48603ed7-8785-4127-dd4b-67bbc4380d28"
      },
      "source": [
        "labels = pd.read_csv('/content/drive/MyDrive/Data/MLEnd/trainingMLEnd.csv')\n",
        "labels"
      ],
      "execution_count": null,
      "outputs": [
        {
          "output_type": "execute_result",
          "data": {
            "text/html": [
              "<div>\n",
              "<style scoped>\n",
              "    .dataframe tbody tr th:only-of-type {\n",
              "        vertical-align: middle;\n",
              "    }\n",
              "\n",
              "    .dataframe tbody tr th {\n",
              "        vertical-align: top;\n",
              "    }\n",
              "\n",
              "    .dataframe thead th {\n",
              "        text-align: right;\n",
              "    }\n",
              "</style>\n",
              "<table border=\"1\" class=\"dataframe\">\n",
              "  <thead>\n",
              "    <tr style=\"text-align: right;\">\n",
              "      <th></th>\n",
              "      <th>File ID</th>\n",
              "      <th>digit_label</th>\n",
              "      <th>participant</th>\n",
              "      <th>intonation</th>\n",
              "    </tr>\n",
              "  </thead>\n",
              "  <tbody>\n",
              "    <tr>\n",
              "      <th>0</th>\n",
              "      <td>0000000.wav</td>\n",
              "      <td>4</td>\n",
              "      <td>S73</td>\n",
              "      <td>question</td>\n",
              "    </tr>\n",
              "    <tr>\n",
              "      <th>1</th>\n",
              "      <td>0000001.wav</td>\n",
              "      <td>2</td>\n",
              "      <td>S88</td>\n",
              "      <td>excited</td>\n",
              "    </tr>\n",
              "    <tr>\n",
              "      <th>2</th>\n",
              "      <td>0000002.wav</td>\n",
              "      <td>70</td>\n",
              "      <td>S5</td>\n",
              "      <td>neutral</td>\n",
              "    </tr>\n",
              "    <tr>\n",
              "      <th>3</th>\n",
              "      <td>0000003.wav</td>\n",
              "      <td>2</td>\n",
              "      <td>S85</td>\n",
              "      <td>bored</td>\n",
              "    </tr>\n",
              "    <tr>\n",
              "      <th>4</th>\n",
              "      <td>0000004.wav</td>\n",
              "      <td>4</td>\n",
              "      <td>S30</td>\n",
              "      <td>excited</td>\n",
              "    </tr>\n",
              "    <tr>\n",
              "      <th>...</th>\n",
              "      <td>...</td>\n",
              "      <td>...</td>\n",
              "      <td>...</td>\n",
              "      <td>...</td>\n",
              "    </tr>\n",
              "    <tr>\n",
              "      <th>19995</th>\n",
              "      <td>0019995.wav</td>\n",
              "      <td>90</td>\n",
              "      <td>S163</td>\n",
              "      <td>excited</td>\n",
              "    </tr>\n",
              "    <tr>\n",
              "      <th>19996</th>\n",
              "      <td>0019996.wav</td>\n",
              "      <td>10</td>\n",
              "      <td>S99</td>\n",
              "      <td>question</td>\n",
              "    </tr>\n",
              "    <tr>\n",
              "      <th>19997</th>\n",
              "      <td>0019997.wav</td>\n",
              "      <td>90</td>\n",
              "      <td>S46</td>\n",
              "      <td>question</td>\n",
              "    </tr>\n",
              "    <tr>\n",
              "      <th>19998</th>\n",
              "      <td>0019998.wav</td>\n",
              "      <td>19</td>\n",
              "      <td>S13</td>\n",
              "      <td>neutral</td>\n",
              "    </tr>\n",
              "    <tr>\n",
              "      <th>19999</th>\n",
              "      <td>0019999.wav</td>\n",
              "      <td>20</td>\n",
              "      <td>S101</td>\n",
              "      <td>neutral</td>\n",
              "    </tr>\n",
              "  </tbody>\n",
              "</table>\n",
              "<p>20000 rows × 4 columns</p>\n",
              "</div>"
            ],
            "text/plain": [
              "           File ID  digit_label participant intonation\n",
              "0      0000000.wav            4         S73   question\n",
              "1      0000001.wav            2         S88    excited\n",
              "2      0000002.wav           70          S5    neutral\n",
              "3      0000003.wav            2         S85      bored\n",
              "4      0000004.wav            4         S30    excited\n",
              "...            ...          ...         ...        ...\n",
              "19995  0019995.wav           90        S163    excited\n",
              "19996  0019996.wav           10         S99   question\n",
              "19997  0019997.wav           90         S46   question\n",
              "19998  0019998.wav           19         S13    neutral\n",
              "19999  0019999.wav           20        S101    neutral\n",
              "\n",
              "[20000 rows x 4 columns]"
            ]
          },
          "metadata": {
            "tags": []
          },
          "execution_count": 26
        }
      ]
    },
    {
      "cell_type": "markdown",
      "metadata": {
        "id": "gHqJeJUaowuH"
      },
      "source": [
        "After loading the data, the next step is to extract the features of the audio file dataset and use them as predictors. For that purpose in the next cell a function is defined to extract the pitch of the audio signal."
      ]
    },
    {
      "cell_type": "code",
      "metadata": {
        "id": "dTjMwnonXoaz"
      },
      "source": [
        "def getPitch(x,fs,winLen=0.02):\n",
        "  #winLen = 0.02 \n",
        "  p = winLen*fs\n",
        "  frame_length = int(2**int(p-1).bit_length())\n",
        "  hop_length = frame_length//2\n",
        "  f0, voiced_flag, voiced_probs = librosa.pyin(y=x, fmin=80, fmax=450, sr=fs,\n",
        "                                                 frame_length=frame_length,hop_length=hop_length)\n",
        "  return f0,voiced_flag"
      ],
      "execution_count": null,
      "outputs": []
    },
    {
      "cell_type": "markdown",
      "metadata": {
        "id": "sThv9KC0o75e"
      },
      "source": [
        "In the next step the problem is to indentify if a spoken numeral is a composite number or not, for which a function is defined that calculates the occurance of a composite number. The for loop is used to go through all the spoken numerals and the nested if statement is used to identify if the number has at least one divisor other than 1 and itself."
      ]
    },
    {
      "cell_type": "code",
      "metadata": {
        "id": "9dFXxVzUnwES"
      },
      "source": [
        "def is_composite(yi):\n",
        "  count=0\n",
        "  for i in range(1, yi+1):\n",
        "    if (yi % i == 0):\n",
        "      count += 1\n",
        "    else:\n",
        "      count+=0\n",
        "    \n",
        "\n",
        "  if (count > 2):\n",
        "    return True\n",
        "  else:\n",
        "    return False  \n",
        "           "
      ],
      "execution_count": null,
      "outputs": []
    },
    {
      "cell_type": "markdown",
      "metadata": {
        "id": "mHMM3LQepDyx"
      },
      "source": [
        "The next step involves extracting two featues of the audio files which will be used as predictors.A function is defined that takes a number of files and creates a NumPy array containing the 2 audio features used as predictors (X) and their labels (y)."
      ]
    },
    {
      "cell_type": "code",
      "metadata": {
        "id": "zysBQ-C8jDZ3"
      },
      "source": [
        "def newgetXy(files,labels_file,scale_audio=False):\n",
        "  X,y =[],[]\n",
        "  for file in tqdm(files):\n",
        "    fileID = file.split('/')[-1]\n",
        "    yi = list(labels_file[labels_file['File ID']==fileID]['digit_label'])[0]\n",
        "    if (is_composite(yi)==False):\n",
        "      continue\n",
        "    else:\n",
        "       fs = None # if None, fs would be 22050\n",
        "       x, fs = librosa.load(file,sr=fs)\n",
        "       if scale_audio: x = x/np.max(np.abs(x))\n",
        "       f0, voiced_flag = getPitch(x,fs,winLen=0.02)\n",
        "      \n",
        "       power = np.sum(x**2)/len(x)\n",
        "       voiced_fr = np.mean(voiced_flag)\n",
        "\n",
        "       xi = [power,voiced_fr]\n",
        "       X.append(xi)\n",
        "       y.append(yi)\n",
        "  return np.array(X),np.array(y)"
      ],
      "execution_count": null,
      "outputs": []
    },
    {
      "cell_type": "markdown",
      "metadata": {
        "id": "AYM1aTTWqYNv"
      },
      "source": [
        "For this solution 500 audio files will be used out of 20k"
      ]
    },
    {
      "cell_type": "code",
      "metadata": {
        "id": "Bn5K-Ig7m8J1",
        "colab": {
          "base_uri": "https://localhost:8080/"
        },
        "outputId": "894dc67a-5a1b-4ab2-dbe2-3b91da64f508"
      },
      "source": [
        "X,y = newgetXy(files[:500],labels_file=labels,scale_audio=True)\n",
        "               \n"
      ],
      "execution_count": null,
      "outputs": [
        {
          "output_type": "stream",
          "text": [
            "100%|██████████| 500/500 [28:10<00:00,  3.38s/it]\n"
          ],
          "name": "stderr"
        }
      ]
    },
    {
      "cell_type": "code",
      "metadata": {
        "id": "K1wPOWrgr9nk",
        "colab": {
          "base_uri": "https://localhost:8080/"
        },
        "outputId": "2e5d8bd1-2097-4e28-eeb7-af3257d13788"
      },
      "source": [
        "print('The shape of X is', X.shape) \n",
        "print('The shape of y is', y.shape)\n",
        "print('The labels vector is', y)"
      ],
      "execution_count": null,
      "outputs": [
        {
          "output_type": "stream",
          "text": [
            "The shape of X is (343, 2)\n",
            "The shape of y is (343,)\n",
            "The labels vector is [         8         70       1000         30          6         20\n",
            "         18        100          8         12         80         15\n",
            " 1000000000        100          8        100         80         12\n",
            "          4         50         30       1000       1000    1000000\n",
            "         80         14         16         70          9          4\n",
            "          8          9         60          8         15         15\n",
            "          6         15         14          4         20          4\n",
            "        100         18         90          8         18         10\n",
            "         50 1000000000         14         10         14         14\n",
            "         14          9          8         20         40 1000000000\n",
            "         90         18        100    1000000        100         16\n",
            "         30          6         16          6          9         20\n",
            "          9         14          9         14          9         50\n",
            "         70         12         40          9         15          8\n",
            "         50    1000000 1000000000          9         18       1000\n",
            "         40         10         80         60         70         12\n",
            "         10         50         60         16 1000000000         10\n",
            "         90        100         16    1000000          9         60\n",
            "          9          6          9         20          8         90\n",
            "         70          9         16          9          8         10\n",
            "          9         12         12          9    1000000         60\n",
            "         80         15         15         10         30         40\n",
            "         18         40         10         40         90         60\n",
            "         80         15    1000000          8         40         60\n",
            "          4          4         30         30       1000         12\n",
            "          8         90         14          8         70         80\n",
            "         80         60         50         20 1000000000 1000000000\n",
            "         20         16         90         80         12         18\n",
            "         80         60    1000000         20         80         50\n",
            "         20         30         60         15        100          8\n",
            "         16          8         80         16         30         40\n",
            " 1000000000         12          8        100         30         90\n",
            "         90          8         90         90          8       1000\n",
            " 1000000000         80         10         80         50 1000000000\n",
            "         12          8         60         18          9         18\n",
            "          8          8         18         20         40         20\n",
            "         60         20        100         30         50          9\n",
            "         80          8         20         30         20         10\n",
            "          4          4         60          8         10 1000000000\n",
            "         20         18         30    1000000         50    1000000\n",
            "         12         60         18         40         10         16\n",
            "    1000000         80          4        100         10          6\n",
            "         16         10         10         50        100         16\n",
            "          8    1000000    1000000         16         18          8\n",
            " 1000000000         20         70         30         16          8\n",
            "         70          9         20         90          9         18\n",
            "         70         60         12         14         16        100\n",
            "          9         60         40 1000000000         50    1000000\n",
            "    1000000         90         16          4         90         12\n",
            "         30         20         14         10         20        100\n",
            "         60         70         14         18 1000000000    1000000\n",
            "         16          8         10          4          9         50\n",
            "       1000         10          6         50         30          6\n",
            "          8         80         18         40          4         14\n",
            "         40          6         50    1000000         10         10\n",
            "         10          8         18         50         12         16\n",
            "         70         50          9         50         30         18\n",
            "         70]\n"
          ],
          "name": "stdout"
        }
      ]
    },
    {
      "cell_type": "markdown",
      "metadata": {
        "id": "nhs4m5SDqbDh"
      },
      "source": [
        "In the above cell we get the list of all the composite numbers."
      ]
    },
    {
      "cell_type": "markdown",
      "metadata": {
        "id": "VSWyylQuqiyW"
      },
      "source": [
        "# Preprocessing"
      ]
    },
    {
      "cell_type": "markdown",
      "metadata": {
        "id": "SDsYGn5Dqmmr"
      },
      "source": [
        "As a part of preprocessing the dataset all the NaN (Not a number) elements are removed."
      ]
    },
    {
      "cell_type": "code",
      "metadata": {
        "id": "MngX5BmcX1v2",
        "colab": {
          "base_uri": "https://localhost:8080/"
        },
        "outputId": "ec8035cc-9a77-42e7-b1cc-ce59ac8ace72"
      },
      "source": [
        "# If nan sample, remove them\n",
        "if np.sum(np.isnan(X)):\n",
        "  idx = np.isnan(X).sum(1)>0\n",
        "  X = X[~idx]\n",
        "  y = y[~idx]\n",
        "print(np.sum(np.isnan(X)))"
      ],
      "execution_count": null,
      "outputs": [
        {
          "output_type": "stream",
          "text": [
            "0\n"
          ],
          "name": "stdout"
        }
      ]
    },
    {
      "cell_type": "markdown",
      "metadata": {
        "id": "CvqZIDiHqviB"
      },
      "source": [
        "The final preprocessing step is to divide the data into training and validation sets. The train_test_split method, will be used to randomly split the data into training and validation sets. Execute the following cell to do so:"
      ]
    },
    {
      "cell_type": "code",
      "metadata": {
        "id": "0A1ZmtsisVOh",
        "colab": {
          "base_uri": "https://localhost:8080/"
        },
        "outputId": "46900c30-e63f-485e-a292-d7b0b3cc9a7a"
      },
      "source": [
        "from sklearn import svm\n",
        "from sklearn.model_selection import train_test_split\n",
        "\n",
        "X_train, X_val, y_train, y_val = train_test_split(X,y,test_size=0.3)\n",
        "X_train.shape, X_val.shape, y_train.shape, y_val.shape"
      ],
      "execution_count": null,
      "outputs": [
        {
          "output_type": "execute_result",
          "data": {
            "text/plain": [
              "((240, 2), (103, 2), (240,), (103,))"
            ]
          },
          "metadata": {
            "tags": []
          },
          "execution_count": 35
        }
      ]
    },
    {
      "cell_type": "markdown",
      "metadata": {
        "id": "NmQ_rXfcqwz4"
      },
      "source": [
        "# Model Description"
      ]
    },
    {
      "cell_type": "markdown",
      "metadata": {
        "id": "LbVq2Ocuq_dv"
      },
      "source": [
        "The support vector machine (SVM) model is built for the predictive task of identifying if a spoken numeral is a composite number or not, using the dataset that we have just created.\n",
        "\n"
      ]
    },
    {
      "cell_type": "code",
      "metadata": {
        "id": "TvWBuJ6MsXp5",
        "colab": {
          "base_uri": "https://localhost:8080/"
        },
        "outputId": "12f01fc6-2a87-4807-f6f7-e2b517f74e3b"
      },
      "source": [
        "model  = svm.SVC(C=1,gamma=8)\n",
        "model.fit(X_train,y_train)\n",
        "\n",
        "yt_p = model.predict(X_train)\n",
        "yv_p = model.predict(X_val)\n",
        "\n",
        "print('Training Accuracy', np.mean(yt_p==y_train))\n",
        "print('Validation  Accuracy', np.mean(yv_p==y_val))\n",
        "\n",
        "\n"
      ],
      "execution_count": null,
      "outputs": [
        {
          "output_type": "stream",
          "text": [
            "Training Accuracy 0.12083333333333333\n",
            "Validation  Accuracy 0.07766990291262135\n"
          ],
          "name": "stdout"
        }
      ]
    },
    {
      "cell_type": "markdown",
      "metadata": {
        "id": "NM2vwxT_r6By"
      },
      "source": [
        "The above model gives an accuracy of 0.12 but the validation accuracy being low i.e 0.097. To improve the accuracy of this model, we will tune in different hyperparameters to improve the validation accuracy."
      ]
    },
    {
      "cell_type": "markdown",
      "metadata": {
        "id": "JtQ13koCsorO"
      },
      "source": [
        "# Confusion Matrix and Grid Search CV"
      ]
    },
    {
      "cell_type": "markdown",
      "metadata": {
        "id": "YARLtZSSrnd1"
      },
      "source": [
        "In the next step we use Grid Search method to improve the accuracy.Grid search is commonly used as an approach to hyper-parameter tuning that will methodically build and evaluate a model for each combination of algorithm parameters specified in a grid."
      ]
    },
    {
      "cell_type": "code",
      "metadata": {
        "colab": {
          "base_uri": "https://localhost:8080/"
        },
        "id": "z-QkAuZ0tgtw",
        "outputId": "60559b47-8567-4403-bbba-5211830f4d07"
      },
      "source": [
        "from sklearn.model_selection import GridSearchCV\n",
        "from sklearn.svm import SVC\n",
        "\n",
        "param_grid = {'C': [0.1,1, 10], 'gamma': [5,1,0.1],'kernel': ['rbf', 'poly']}\n",
        "grid = GridSearchCV(SVC(),param_grid,refit=True,verbose=2)\n",
        "grid.fit(X_train,y_train)\n",
        "\n",
        "\n"
      ],
      "execution_count": null,
      "outputs": [
        {
          "output_type": "stream",
          "text": [
            "Fitting 5 folds for each of 18 candidates, totalling 90 fits\n",
            "[CV] C=0.1, gamma=5, kernel=rbf ......................................\n",
            "[CV] ....................... C=0.1, gamma=5, kernel=rbf, total=   0.0s\n",
            "[CV] C=0.1, gamma=5, kernel=rbf ......................................\n",
            "[CV] ....................... C=0.1, gamma=5, kernel=rbf, total=   0.0s\n",
            "[CV] C=0.1, gamma=5, kernel=rbf ......................................\n",
            "[CV] ....................... C=0.1, gamma=5, kernel=rbf, total=   0.0s\n",
            "[CV] C=0.1, gamma=5, kernel=rbf ......................................\n",
            "[CV] ....................... C=0.1, gamma=5, kernel=rbf, total=   0.0s\n",
            "[CV] C=0.1, gamma=5, kernel=rbf ......................................\n",
            "[CV] ....................... C=0.1, gamma=5, kernel=rbf, total=   0.0s\n",
            "[CV] C=0.1, gamma=5, kernel=poly .....................................\n",
            "[CV] ...................... C=0.1, gamma=5, kernel=poly, total=   0.0s\n",
            "[CV] C=0.1, gamma=5, kernel=poly .....................................\n",
            "[CV] ...................... C=0.1, gamma=5, kernel=poly, total=   0.0s\n",
            "[CV] C=0.1, gamma=5, kernel=poly .....................................\n",
            "[CV] ...................... C=0.1, gamma=5, kernel=poly, total=   0.0s\n",
            "[CV] C=0.1, gamma=5, kernel=poly .....................................\n",
            "[CV] ...................... C=0.1, gamma=5, kernel=poly, total=   0.0s\n",
            "[CV] C=0.1, gamma=5, kernel=poly .....................................\n",
            "[CV] ...................... C=0.1, gamma=5, kernel=poly, total=   0.0s\n",
            "[CV] C=0.1, gamma=1, kernel=rbf ......................................\n",
            "[CV] ....................... C=0.1, gamma=1, kernel=rbf, total=   0.0s\n",
            "[CV] C=0.1, gamma=1, kernel=rbf ......................................\n",
            "[CV] ....................... C=0.1, gamma=1, kernel=rbf, total=   0.0s\n",
            "[CV] C=0.1, gamma=1, kernel=rbf ......................................\n",
            "[CV] ....................... C=0.1, gamma=1, kernel=rbf, total=   0.0s\n",
            "[CV] C=0.1, gamma=1, kernel=rbf ......................................\n",
            "[CV] ....................... C=0.1, gamma=1, kernel=rbf, total=   0.0s\n",
            "[CV] C=0.1, gamma=1, kernel=rbf ......................................\n",
            "[CV] ....................... C=0.1, gamma=1, kernel=rbf, total=   0.0s\n",
            "[CV] C=0.1, gamma=1, kernel=poly .....................................\n",
            "[CV] ...................... C=0.1, gamma=1, kernel=poly, total=   0.0s\n",
            "[CV] C=0.1, gamma=1, kernel=poly .....................................\n",
            "[CV] ...................... C=0.1, gamma=1, kernel=poly, total=   0.0s\n",
            "[CV] C=0.1, gamma=1, kernel=poly .....................................\n",
            "[CV] ...................... C=0.1, gamma=1, kernel=poly, total=   0.0s\n",
            "[CV] C=0.1, gamma=1, kernel=poly .....................................\n",
            "[CV] ...................... C=0.1, gamma=1, kernel=poly, total=   0.0s\n",
            "[CV] C=0.1, gamma=1, kernel=poly .....................................\n",
            "[CV] ...................... C=0.1, gamma=1, kernel=poly, total=   0.0s\n",
            "[CV] C=0.1, gamma=0.1, kernel=rbf ....................................\n",
            "[CV] ..................... C=0.1, gamma=0.1, kernel=rbf, total=   0.0s\n",
            "[CV] C=0.1, gamma=0.1, kernel=rbf ....................................\n",
            "[CV] ..................... C=0.1, gamma=0.1, kernel=rbf, total=   0.0s\n",
            "[CV] C=0.1, gamma=0.1, kernel=rbf ....................................\n",
            "[CV] ..................... C=0.1, gamma=0.1, kernel=rbf, total=   0.0s\n",
            "[CV] C=0.1, gamma=0.1, kernel=rbf ....................................\n",
            "[CV] ..................... C=0.1, gamma=0.1, kernel=rbf, total=   0.0s\n",
            "[CV] C=0.1, gamma=0.1, kernel=rbf ....................................\n",
            "[CV] ..................... C=0.1, gamma=0.1, kernel=rbf, total=   0.0s\n",
            "[CV] C=0.1, gamma=0.1, kernel=poly ...................................\n",
            "[CV] .................... C=0.1, gamma=0.1, kernel=poly, total=   0.0s\n",
            "[CV] C=0.1, gamma=0.1, kernel=poly ...................................\n",
            "[CV] .................... C=0.1, gamma=0.1, kernel=poly, total=   0.0s\n",
            "[CV] C=0.1, gamma=0.1, kernel=poly ...................................\n",
            "[CV] .................... C=0.1, gamma=0.1, kernel=poly, total=   0.0s\n",
            "[CV] C=0.1, gamma=0.1, kernel=poly ...................................\n",
            "[CV] .................... C=0.1, gamma=0.1, kernel=poly, total=   0.0s\n",
            "[CV] C=0.1, gamma=0.1, kernel=poly ...................................\n",
            "[CV] .................... C=0.1, gamma=0.1, kernel=poly, total=   0.0s\n",
            "[CV] C=1, gamma=5, kernel=rbf ........................................\n",
            "[CV] ......................... C=1, gamma=5, kernel=rbf, total=   0.0s\n",
            "[CV] C=1, gamma=5, kernel=rbf ........................................\n",
            "[CV] ......................... C=1, gamma=5, kernel=rbf, total=   0.0s\n",
            "[CV] C=1, gamma=5, kernel=rbf ........................................\n"
          ],
          "name": "stdout"
        },
        {
          "output_type": "stream",
          "text": [
            "[Parallel(n_jobs=1)]: Using backend SequentialBackend with 1 concurrent workers.\n",
            "[Parallel(n_jobs=1)]: Done   1 out of   1 | elapsed:    0.0s remaining:    0.0s\n"
          ],
          "name": "stderr"
        },
        {
          "output_type": "stream",
          "text": [
            "[CV] ......................... C=1, gamma=5, kernel=rbf, total=   0.0s\n",
            "[CV] C=1, gamma=5, kernel=rbf ........................................\n",
            "[CV] ......................... C=1, gamma=5, kernel=rbf, total=   0.0s\n",
            "[CV] C=1, gamma=5, kernel=rbf ........................................\n",
            "[CV] ......................... C=1, gamma=5, kernel=rbf, total=   0.0s\n",
            "[CV] C=1, gamma=5, kernel=poly .......................................\n",
            "[CV] ........................ C=1, gamma=5, kernel=poly, total=   0.0s\n",
            "[CV] C=1, gamma=5, kernel=poly .......................................\n",
            "[CV] ........................ C=1, gamma=5, kernel=poly, total=   0.0s\n",
            "[CV] C=1, gamma=5, kernel=poly .......................................\n",
            "[CV] ........................ C=1, gamma=5, kernel=poly, total=   0.0s\n",
            "[CV] C=1, gamma=5, kernel=poly .......................................\n",
            "[CV] ........................ C=1, gamma=5, kernel=poly, total=   0.0s\n",
            "[CV] C=1, gamma=5, kernel=poly .......................................\n",
            "[CV] ........................ C=1, gamma=5, kernel=poly, total=   0.0s\n",
            "[CV] C=1, gamma=1, kernel=rbf ........................................\n",
            "[CV] ......................... C=1, gamma=1, kernel=rbf, total=   0.0s\n",
            "[CV] C=1, gamma=1, kernel=rbf ........................................\n",
            "[CV] ......................... C=1, gamma=1, kernel=rbf, total=   0.0s\n",
            "[CV] C=1, gamma=1, kernel=rbf ........................................\n",
            "[CV] ......................... C=1, gamma=1, kernel=rbf, total=   0.0s\n",
            "[CV] C=1, gamma=1, kernel=rbf ........................................\n",
            "[CV] ......................... C=1, gamma=1, kernel=rbf, total=   0.0s\n",
            "[CV] C=1, gamma=1, kernel=rbf ........................................\n",
            "[CV] ......................... C=1, gamma=1, kernel=rbf, total=   0.0s\n",
            "[CV] C=1, gamma=1, kernel=poly .......................................\n",
            "[CV] ........................ C=1, gamma=1, kernel=poly, total=   0.0s\n",
            "[CV] C=1, gamma=1, kernel=poly .......................................\n",
            "[CV] ........................ C=1, gamma=1, kernel=poly, total=   0.0s\n",
            "[CV] C=1, gamma=1, kernel=poly .......................................\n",
            "[CV] ........................ C=1, gamma=1, kernel=poly, total=   0.0s\n",
            "[CV] C=1, gamma=1, kernel=poly .......................................\n",
            "[CV] ........................ C=1, gamma=1, kernel=poly, total=   0.0s\n",
            "[CV] C=1, gamma=1, kernel=poly .......................................\n",
            "[CV] ........................ C=1, gamma=1, kernel=poly, total=   0.0s\n",
            "[CV] C=1, gamma=0.1, kernel=rbf ......................................\n",
            "[CV] ....................... C=1, gamma=0.1, kernel=rbf, total=   0.0s\n",
            "[CV] C=1, gamma=0.1, kernel=rbf ......................................\n",
            "[CV] ....................... C=1, gamma=0.1, kernel=rbf, total=   0.0s\n",
            "[CV] C=1, gamma=0.1, kernel=rbf ......................................\n",
            "[CV] ....................... C=1, gamma=0.1, kernel=rbf, total=   0.0s\n",
            "[CV] C=1, gamma=0.1, kernel=rbf ......................................\n",
            "[CV] ....................... C=1, gamma=0.1, kernel=rbf, total=   0.0s\n",
            "[CV] C=1, gamma=0.1, kernel=rbf ......................................\n",
            "[CV] ....................... C=1, gamma=0.1, kernel=rbf, total=   0.0s\n",
            "[CV] C=1, gamma=0.1, kernel=poly .....................................\n",
            "[CV] ...................... C=1, gamma=0.1, kernel=poly, total=   0.0s\n",
            "[CV] C=1, gamma=0.1, kernel=poly .....................................\n",
            "[CV] ...................... C=1, gamma=0.1, kernel=poly, total=   0.0s\n",
            "[CV] C=1, gamma=0.1, kernel=poly .....................................\n",
            "[CV] ...................... C=1, gamma=0.1, kernel=poly, total=   0.0s\n",
            "[CV] C=1, gamma=0.1, kernel=poly .....................................\n",
            "[CV] ...................... C=1, gamma=0.1, kernel=poly, total=   0.0s\n",
            "[CV] C=1, gamma=0.1, kernel=poly .....................................\n",
            "[CV] ...................... C=1, gamma=0.1, kernel=poly, total=   0.0s\n",
            "[CV] C=10, gamma=5, kernel=rbf .......................................\n",
            "[CV] ........................ C=10, gamma=5, kernel=rbf, total=   0.0s\n",
            "[CV] C=10, gamma=5, kernel=rbf .......................................\n",
            "[CV] ........................ C=10, gamma=5, kernel=rbf, total=   0.0s\n",
            "[CV] C=10, gamma=5, kernel=rbf .......................................\n",
            "[CV] ........................ C=10, gamma=5, kernel=rbf, total=   0.0s\n",
            "[CV] C=10, gamma=5, kernel=rbf .......................................\n",
            "[CV] ........................ C=10, gamma=5, kernel=rbf, total=   0.0s\n",
            "[CV] C=10, gamma=5, kernel=rbf .......................................\n",
            "[CV] ........................ C=10, gamma=5, kernel=rbf, total=   0.0s\n",
            "[CV] C=10, gamma=5, kernel=poly ......................................\n",
            "[CV] ....................... C=10, gamma=5, kernel=poly, total=   0.0s\n",
            "[CV] C=10, gamma=5, kernel=poly ......................................\n",
            "[CV] ....................... C=10, gamma=5, kernel=poly, total=   0.0s\n",
            "[CV] C=10, gamma=5, kernel=poly ......................................\n",
            "[CV] ....................... C=10, gamma=5, kernel=poly, total=   0.0s\n",
            "[CV] C=10, gamma=5, kernel=poly ......................................\n",
            "[CV] ....................... C=10, gamma=5, kernel=poly, total=   0.0s\n",
            "[CV] C=10, gamma=5, kernel=poly ......................................\n",
            "[CV] ....................... C=10, gamma=5, kernel=poly, total=   0.0s\n",
            "[CV] C=10, gamma=1, kernel=rbf .......................................\n",
            "[CV] ........................ C=10, gamma=1, kernel=rbf, total=   0.0s\n",
            "[CV] C=10, gamma=1, kernel=rbf .......................................\n",
            "[CV] ........................ C=10, gamma=1, kernel=rbf, total=   0.0s\n",
            "[CV] C=10, gamma=1, kernel=rbf .......................................\n",
            "[CV] ........................ C=10, gamma=1, kernel=rbf, total=   0.0s\n",
            "[CV] C=10, gamma=1, kernel=rbf .......................................\n",
            "[CV] ........................ C=10, gamma=1, kernel=rbf, total=   0.0s\n",
            "[CV] C=10, gamma=1, kernel=rbf .......................................\n",
            "[CV] ........................ C=10, gamma=1, kernel=rbf, total=   0.0s\n",
            "[CV] C=10, gamma=1, kernel=poly ......................................\n",
            "[CV] ....................... C=10, gamma=1, kernel=poly, total=   0.0s\n",
            "[CV] C=10, gamma=1, kernel=poly ......................................\n",
            "[CV] ....................... C=10, gamma=1, kernel=poly, total=   0.0s\n",
            "[CV] C=10, gamma=1, kernel=poly ......................................\n",
            "[CV] ....................... C=10, gamma=1, kernel=poly, total=   0.0s\n",
            "[CV] C=10, gamma=1, kernel=poly ......................................\n",
            "[CV] ....................... C=10, gamma=1, kernel=poly, total=   0.0s\n",
            "[CV] C=10, gamma=1, kernel=poly ......................................\n",
            "[CV] ....................... C=10, gamma=1, kernel=poly, total=   0.0s\n",
            "[CV] C=10, gamma=0.1, kernel=rbf .....................................\n",
            "[CV] ...................... C=10, gamma=0.1, kernel=rbf, total=   0.0s\n",
            "[CV] C=10, gamma=0.1, kernel=rbf .....................................\n",
            "[CV] ...................... C=10, gamma=0.1, kernel=rbf, total=   0.0s\n",
            "[CV] C=10, gamma=0.1, kernel=rbf .....................................\n",
            "[CV] ...................... C=10, gamma=0.1, kernel=rbf, total=   0.0s\n",
            "[CV] C=10, gamma=0.1, kernel=rbf .....................................\n",
            "[CV] ...................... C=10, gamma=0.1, kernel=rbf, total=   0.0s\n",
            "[CV] C=10, gamma=0.1, kernel=rbf .....................................\n",
            "[CV] ...................... C=10, gamma=0.1, kernel=rbf, total=   0.0s\n",
            "[CV] C=10, gamma=0.1, kernel=poly ....................................\n",
            "[CV] ..................... C=10, gamma=0.1, kernel=poly, total=   0.0s\n",
            "[CV] C=10, gamma=0.1, kernel=poly ....................................\n",
            "[CV] ..................... C=10, gamma=0.1, kernel=poly, total=   0.0s\n",
            "[CV] C=10, gamma=0.1, kernel=poly ....................................\n",
            "[CV] ..................... C=10, gamma=0.1, kernel=poly, total=   0.0s\n",
            "[CV] C=10, gamma=0.1, kernel=poly ....................................\n",
            "[CV] ..................... C=10, gamma=0.1, kernel=poly, total=   0.0s\n",
            "[CV] C=10, gamma=0.1, kernel=poly ....................................\n",
            "[CV] ..................... C=10, gamma=0.1, kernel=poly, total=   0.0s\n"
          ],
          "name": "stdout"
        },
        {
          "output_type": "stream",
          "text": [
            "[Parallel(n_jobs=1)]: Done  90 out of  90 | elapsed:    0.6s finished\n"
          ],
          "name": "stderr"
        },
        {
          "output_type": "execute_result",
          "data": {
            "text/plain": [
              "GridSearchCV(cv=None, error_score=nan,\n",
              "             estimator=SVC(C=1.0, break_ties=False, cache_size=200,\n",
              "                           class_weight=None, coef0=0.0,\n",
              "                           decision_function_shape='ovr', degree=3,\n",
              "                           gamma='scale', kernel='rbf', max_iter=-1,\n",
              "                           probability=False, random_state=None, shrinking=True,\n",
              "                           tol=0.001, verbose=False),\n",
              "             iid='deprecated', n_jobs=None,\n",
              "             param_grid={'C': [0.1, 1, 10], 'gamma': [5, 1, 0.1],\n",
              "                         'kernel': ['rbf', 'poly']},\n",
              "             pre_dispatch='2*n_jobs', refit=True, return_train_score=False,\n",
              "             scoring=None, verbose=2)"
            ]
          },
          "metadata": {
            "tags": []
          },
          "execution_count": 37
        }
      ]
    },
    {
      "cell_type": "code",
      "metadata": {
        "colab": {
          "base_uri": "https://localhost:8080/"
        },
        "id": "udJPSW-8vdK8",
        "outputId": "2da839a0-41bc-4ed1-9098-93ca4592ef90"
      },
      "source": [
        "print(grid.best_estimator_)"
      ],
      "execution_count": null,
      "outputs": [
        {
          "output_type": "stream",
          "text": [
            "SVC(C=10, break_ties=False, cache_size=200, class_weight=None, coef0=0.0,\n",
            "    decision_function_shape='ovr', degree=3, gamma=5, kernel='rbf', max_iter=-1,\n",
            "    probability=False, random_state=None, shrinking=True, tol=0.001,\n",
            "    verbose=False)\n"
          ],
          "name": "stdout"
        }
      ]
    },
    {
      "cell_type": "markdown",
      "metadata": {
        "id": "Zy-hLgFwudM-"
      },
      "source": [
        "The above cell gives the best estimators for the model (C=10,degree=3,gamma=5, Kernel='rbf')"
      ]
    },
    {
      "cell_type": "markdown",
      "metadata": {
        "id": "rp_9j8b7tUju"
      },
      "source": [
        "The next cell displays the Confusion matrix and classification report for the dataset obtained using Grid Search."
      ]
    },
    {
      "cell_type": "code",
      "metadata": {
        "colab": {
          "base_uri": "https://localhost:8080/"
        },
        "id": "JffknT_EvfJU",
        "outputId": "005df636-0779-4263-af66-08ab42eff99f"
      },
      "source": [
        "from sklearn.metrics import classification_report, confusion_matrix  \n",
        "\n",
        "grid_predictions = grid.predict(X_val)\n",
        "print(\"Confusion Matrix\")\n",
        "print(\" \")\n",
        "print(confusion_matrix(y_val,grid_predictions))\n",
        "print(\" \")\n",
        "print(\"Classification Report\")\n",
        "print(\" \")\n",
        "print(classification_report(y_val,grid_predictions, zero_division=0))"
      ],
      "execution_count": null,
      "outputs": [
        {
          "output_type": "stream",
          "text": [
            "Confusion Matrix\n",
            " \n",
            "[[0 0 2 0 0 0 0 0 0 0 0 0 0 0 0 0 0 0 0 0 0]\n",
            " [0 0 2 0 0 0 0 0 0 0 0 0 0 0 1 0 0 0 0 0 0]\n",
            " [0 0 6 0 0 0 2 0 0 0 0 0 0 0 1 0 1 0 0 0 0]\n",
            " [0 0 7 1 0 0 0 0 0 0 0 0 0 0 0 0 0 0 0 0 0]\n",
            " [0 0 9 0 0 0 0 0 0 0 0 0 0 0 0 0 0 0 0 0 0]\n",
            " [0 0 1 0 0 0 2 0 0 0 0 0 0 0 1 0 1 0 0 0 0]\n",
            " [0 0 0 0 0 0 0 0 0 0 0 0 0 0 0 0 2 0 0 0 0]\n",
            " [0 0 3 0 0 0 1 0 0 0 0 0 0 0 0 0 0 0 0 0 0]\n",
            " [0 0 2 0 0 0 1 0 0 0 0 0 0 0 1 0 1 0 0 0 0]\n",
            " [0 0 2 0 0 0 2 0 0 0 0 0 0 0 0 0 3 0 0 0 0]\n",
            " [0 0 3 0 0 0 2 0 0 0 0 0 0 0 0 0 0 0 0 0 0]\n",
            " [0 0 1 0 0 0 2 0 0 0 0 0 0 0 0 0 2 0 0 0 0]\n",
            " [0 0 2 0 0 0 0 0 0 0 0 0 0 0 1 0 0 0 0 0 0]\n",
            " [0 0 5 0 0 0 1 0 0 0 0 0 0 0 1 0 1 0 0 0 0]\n",
            " [0 0 2 0 0 0 0 0 0 0 0 0 0 0 0 0 0 0 0 0 0]\n",
            " [0 0 2 0 0 0 2 0 0 0 0 0 0 0 0 0 0 0 0 0 0]\n",
            " [0 0 2 0 0 0 1 0 0 0 0 0 0 0 0 0 1 0 0 0 0]\n",
            " [0 0 1 0 0 0 2 0 0 0 0 0 0 0 0 0 2 0 0 0 0]\n",
            " [0 0 1 0 0 0 0 0 0 0 0 0 0 0 1 0 0 0 0 0 0]\n",
            " [0 0 1 0 0 0 1 0 0 0 0 0 0 0 0 0 5 0 0 0 0]\n",
            " [0 0 1 0 0 0 1 0 0 0 0 0 0 0 0 0 1 0 0 0 0]]\n",
            " \n",
            "Classification Report\n",
            " \n",
            "              precision    recall  f1-score   support\n",
            "\n",
            "           4       0.00      0.00      0.00         2\n",
            "           6       0.00      0.00      0.00         3\n",
            "           8       0.11      0.60      0.18        10\n",
            "           9       1.00      0.12      0.22         8\n",
            "          10       0.00      0.00      0.00         9\n",
            "          12       0.00      0.00      0.00         5\n",
            "          14       0.00      0.00      0.00         2\n",
            "          15       0.00      0.00      0.00         4\n",
            "          16       0.00      0.00      0.00         5\n",
            "          18       0.00      0.00      0.00         7\n",
            "          20       0.00      0.00      0.00         5\n",
            "          30       0.00      0.00      0.00         5\n",
            "          40       0.00      0.00      0.00         3\n",
            "          50       0.00      0.00      0.00         8\n",
            "          60       0.00      0.00      0.00         2\n",
            "          80       0.00      0.00      0.00         4\n",
            "          90       0.05      0.25      0.08         4\n",
            "         100       0.00      0.00      0.00         5\n",
            "        1000       0.00      0.00      0.00         2\n",
            "     1000000       0.00      0.00      0.00         7\n",
            "  1000000000       0.00      0.00      0.00         3\n",
            "\n",
            "    accuracy                           0.08       103\n",
            "   macro avg       0.06      0.05      0.02       103\n",
            "weighted avg       0.09      0.08      0.04       103\n",
            "\n"
          ],
          "name": "stdout"
        }
      ]
    },
    {
      "cell_type": "markdown",
      "metadata": {
        "id": "RwHcyMSfti92"
      },
      "source": [
        "The results of the above cell shows the best accuracy that could be obtained for this problem using the above data set i.e 0.08; which is comparatively better than the accuracy obtained using the model without tuning in different hyperparameters  i.e 0.077."
      ]
    },
    {
      "cell_type": "markdown",
      "metadata": {
        "id": "I5Sxnsq0u0AY"
      },
      "source": [
        "Next we plot a ROC curve to measure the performance of the classifier.  It is one of the most important evaluation metrics for checking any classification model’s performance. "
      ]
    },
    {
      "cell_type": "code",
      "metadata": {
        "colab": {
          "base_uri": "https://localhost:8080/",
          "height": 279
        },
        "id": "_c9ahlsLLxaT",
        "outputId": "36a20a03-72a0-4187-d4f2-9d8522d960cc"
      },
      "source": [
        "import matplotlib.pyplot as plt  \n",
        "from sklearn import datasets, metrics, model_selection, svm\n",
        "X, y = datasets.make_classification(random_state=0)\n",
        "X_train, X_val, y_train, y_val = model_selection.train_test_split(X, y, random_state=0)\n",
        "clf = svm.SVC(random_state=0)\n",
        "clf.fit(X_train, y_train)\n",
        "SVC(random_state=0)\n",
        "metrics.plot_roc_curve(clf, X_val, y_val)  \n",
        "plt.show()        "
      ],
      "execution_count": null,
      "outputs": [
        {
          "output_type": "display_data",
          "data": {
            "image/png": "[encoded data removed]",
            "text/plain": [
              "<Figure size 432x288 with 1 Axes>"
            ]
          },
          "metadata": {
            "tags": [],
            "needs_background": "light"
          }
        }
      ]
    },
    {
      "cell_type": "markdown",
      "metadata": {
        "id": "DxcR35KWvfdu"
      },
      "source": [
        "The ROC curve gives in a score of 0.91, which concludes that the classifier used for this model is the most effecient one. "
      ]
    },
    {
      "cell_type": "markdown",
      "metadata": {
        "id": "G97a5dDsv0nG"
      },
      "source": [
        "# Conclusion"
      ]
    },
    {
      "cell_type": "markdown",
      "metadata": {
        "id": "pfmppLiGv3pu"
      },
      "source": [
        "From the above problem solution it can be concluded that the SVM model is an appropriate fit for the given data set with the accuracy 0.08 . The validation accuracy is low compard to the trainig accuracy. The accuracy of this model can be increased if the number of audio files taken under consideration are increased. The accuracy of the solution also drops when the number of features taken into account are altered (i.e if they are reduced)."
      ]
    }
  ]
}